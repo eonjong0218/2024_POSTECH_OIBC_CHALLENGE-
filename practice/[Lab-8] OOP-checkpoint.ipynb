{
 "cells": [
  {
   "cell_type": "markdown",
   "id": "03fb6ff4",
   "metadata": {},
   "source": [
    "### Exercise 1\n",
    "FishShapeBun (붕어빵) class를 선언하고, 안에 method 및 variable들을 채우시오.  \n",
    "1-1. instance 선언시 content라는 내용물을 받고 저장하도록 생성자를 만드시오.  \n",
    "1-2. bake 라는 메소드를 선언하고, \"{content} Fish Shape Bun is baking.\" 를 출력하시오.   \n",
    "    (내용물은 content의 값으로 대체하여 출력할 것)"
   ]
  },
  {
   "cell_type": "raw",
   "id": "84351400",
   "metadata": {},
   "source": [
    "(인스턴스 생성 및 실행문)\n",
    "\n",
    "b1 = FishShapeBun(\"Cream\")\n",
    "b1.bake()\n"
   ]
  },
  {
   "cell_type": "raw",
   "id": "95393b91",
   "metadata": {},
   "source": [
    "(출력물)\n",
    "\n",
    "Cream Fish Shape Bun is baking"
   ]
  },
  {
   "cell_type": "code",
   "execution_count": 1,
   "id": "198aceb5",
   "metadata": {},
   "outputs": [],
   "source": [
    "#################\n",
    "## FishShapeBun class\n",
    "#################\n",
    "\n",
    "class FishShapeBun:\n",
    "    # complete the class\n",
    "    \n",
    "    pass"
   ]
  },
  {
   "cell_type": "code",
   "execution_count": null,
   "id": "c2b4ee48",
   "metadata": {},
   "outputs": [],
   "source": []
  },
  {
   "cell_type": "code",
   "execution_count": null,
   "id": "332755a0",
   "metadata": {},
   "outputs": [],
   "source": []
  },
  {
   "cell_type": "markdown",
   "id": "877c78d4",
   "metadata": {},
   "source": [
    "### Exercise 2\n",
    "Coordiante class를 선언하고, 안에 method 및 variable들을 채우시오.    \n",
    "2-1. instance 선언시 x, y 좌표값을 받고, 이를 저장하는 생성자를 만드시오.    \n",
    "2-2. distance라는 메소드를 만들고, 새로운 Coordinate instance를 입력받아 두 좌표 사이의 Euclidean distance를 계산하여 return 하시오.  \n",
    "2-3. \\_\\_str\\_\\_(self): 라는 메소드를 만들고 좌표를 출력하는 \"<{x}, {y}>\" return 하시오.   \n",
    "   (Python calls the \\_\\_str\\_\\_ method when used with print on your class object)\n",
    "\n",
    "아래 순서대로 실행해 보고, 출력물을 확인하시오."
   ]
  },
  {
   "cell_type": "raw",
   "id": "314733a6",
   "metadata": {},
   "source": [
    "(인스턴스 생성 및 실행문)\n",
    "\n",
    "c = Coordinate(3,4)\n",
    "origin = Coordinate(0,0)\n",
    "print(c)\n",
    "print(origin)\n",
    "dis = c.distance(origin)\n",
    "print(dis)"
   ]
  },
  {
   "cell_type": "raw",
   "id": "a2267f89",
   "metadata": {},
   "source": [
    "(출력물)\n",
    "\n",
    "<3,4>\n",
    "<0,0>\n",
    "5.0"
   ]
  },
  {
   "cell_type": "code",
   "execution_count": 2,
   "id": "1ed0862e",
   "metadata": {},
   "outputs": [],
   "source": [
    "#################\n",
    "## EXAMPLE: Coordinate class\n",
    "#################\n",
    "\n",
    "class Coordinate:\n",
    "    \"\"\" A coordinate made up of an x and y value \"\"\"\n",
    "    def __init__(self, x, y):\n",
    "        \"\"\" Sets the x and y values \"\"\"\n",
    "                \n",
    "        pass\n",
    "    \n",
    "    def __str__(self):\n",
    "        \"\"\" Returns a string representation of self \"\"\"\n",
    "        \"\"\" example) <3,4> \"\"\"\n",
    "                \n",
    "        return \"\"\n",
    "    \n",
    "    def distance(self, other):\n",
    "        \"\"\" Returns the euclidean distance between two points \"\"\"\n",
    "                \n",
    "        pass"
   ]
  },
  {
   "cell_type": "code",
   "execution_count": 3,
   "id": "47e0e838",
   "metadata": {},
   "outputs": [
    {
     "name": "stdout",
     "output_type": "stream",
     "text": [
      "\n",
      "\n",
      "None\n"
     ]
    }
   ],
   "source": [
    "c = Coordinate(3,4)\n",
    "origin = Coordinate(0,0)\n",
    "print(c)\n",
    "print(origin)\n",
    "dis = c.distance(origin)\n",
    "print(dis)"
   ]
  },
  {
   "cell_type": "code",
   "execution_count": null,
   "id": "69e071d7",
   "metadata": {},
   "outputs": [],
   "source": []
  },
  {
   "cell_type": "code",
   "execution_count": null,
   "id": "822f04a9",
   "metadata": {},
   "outputs": [],
   "source": []
  },
  {
   "cell_type": "markdown",
   "id": "fd199345",
   "metadata": {},
   "source": [
    "### Exercise 3\n",
    "Fraction 클래스를 생성하고, 안에 method 및 variable들을 채우시오.\n",
    "- instance 선언 시 분모(denominator), 분자(numerator)에 해당하는 값을 받고, 이를 저장하는 생성자를 만드시오.  \n",
    "- inverse 메소드를 만들고, 분모와 분자를 뒤집은 Fraction 객체를 return 하시오.  \n",
    "- addition 메소드를 만들고, 분모끼리 더하고, 분자끼리 더한 새로운 Fraction객체를 return 하시오.\n",
    "- __str__(self): 메소드를 이용하여 분수에 분자 / 분모 형식으로 출력하도록 return 하시오.  \n",
    "\n",
    "아래 순서대로 실행해 보고, 출력물을 확인하시오."
   ]
  },
  {
   "cell_type": "raw",
   "id": "ee8b7cbe",
   "metadata": {},
   "source": [
    "(인스턴스 생성 및 실행문)\n",
    "\n",
    "a = Fraction(1,4)\n",
    "print(a)\n",
    "b = Fraction(3,4)\n",
    "print(b)\n",
    "print(a.addition(b))\n",
    "print(b.inverse())"
   ]
  },
  {
   "cell_type": "raw",
   "id": "2b06eff6",
   "metadata": {},
   "source": [
    "(출력물)\n",
    "\n",
    "1/4\n",
    "3/4\n",
    "4/8\n",
    "4/3"
   ]
  },
  {
   "cell_type": "code",
   "execution_count": 4,
   "id": "39e807c0",
   "metadata": {},
   "outputs": [],
   "source": [
    "#################\n",
    "## EXAMPLE: simple class to represent fractions\n",
    "## Try adding more built-in operations like multiply, dividey\n",
    "#################\n",
    "class Fraction(object):\n",
    "    \"\"\"\n",
    "    A number represented as a fraction\n",
    "    \"\"\"\n",
    "    def __init__(self, num, denom):\n",
    "        \n",
    "        pass\n",
    "        \n",
    "    def __str__(self):\n",
    "        \"\"\" Retunrs a string representation of self \"\"\"\n",
    "        \n",
    "        return \"\"\n",
    "    \n",
    "    def addition(self, other):\n",
    "        \"\"\" Returns a new Fraction representing the addition \"\"\"\n",
    "\n",
    "        return  \"\"     \n",
    "    \n",
    "    def inverse(self):\n",
    "        \"\"\" Returns a new Fraction representing 1/self \"\"\"\n",
    "        \n",
    "        return \"\"\n"
   ]
  },
  {
   "cell_type": "code",
   "execution_count": 5,
   "id": "7f342fb9",
   "metadata": {},
   "outputs": [
    {
     "name": "stdout",
     "output_type": "stream",
     "text": [
      "\n",
      "\n",
      "\n"
     ]
    }
   ],
   "source": [
    "a = Fraction(1,4)\n",
    "print(a)\n",
    "b = Fraction(3,4)\n",
    "print(b)\n",
    "print(b.inverse())"
   ]
  },
  {
   "cell_type": "code",
   "execution_count": null,
   "id": "5e55ad55",
   "metadata": {},
   "outputs": [],
   "source": []
  },
  {
   "cell_type": "code",
   "execution_count": null,
   "id": "d99bba5a",
   "metadata": {},
   "outputs": [],
   "source": []
  }
 ],
 "metadata": {
  "kernelspec": {
   "display_name": "Python 3 (ipykernel)",
   "language": "python",
   "name": "python3"
  },
  "language_info": {
   "codemirror_mode": {
    "name": "ipython",
    "version": 3
   },
   "file_extension": ".py",
   "mimetype": "text/x-python",
   "name": "python",
   "nbconvert_exporter": "python",
   "pygments_lexer": "ipython3",
   "version": "3.9.13"
  }
 },
 "nbformat": 4,
 "nbformat_minor": 5
}
