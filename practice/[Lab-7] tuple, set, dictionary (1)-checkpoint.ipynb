{
 "cells": [
  {
   "cell_type": "markdown",
   "id": "ad67d017",
   "metadata": {},
   "source": [
    "### Exercise 1\n",
    "정수 리스트에 있는 중복된 요소들을 제거하고 리스트를 정렬시키는 프로그램을 작성해보자."
   ]
  },
  {
   "cell_type": "raw",
   "id": "f976dd6d",
   "metadata": {},
   "source": [
    "주어진 리스트 : [80, 20, 20, 30 , 60, 30]\n",
    "정리된 리스트 : [20, 30, 60, 80]"
   ]
  },
  {
   "cell_type": "code",
   "execution_count": 4,
   "id": "56ad87e3",
   "metadata": {},
   "outputs": [
    {
     "data": {
      "text/plain": [
       "[20, 30, 60, 80]"
      ]
     },
     "execution_count": 4,
     "metadata": {},
     "output_type": "execute_result"
    }
   ],
   "source": [
    "a = [80, 20, 20, 30 , 60, 30]\n",
    "a = set(a)\n",
    "a = sorted(a)\n",
    "a"
   ]
  },
  {
   "cell_type": "markdown",
   "id": "43b53336",
   "metadata": {},
   "source": [
    "### Exercise 2\n",
    "(x, x * x) 형식의 숫자(1과 10사이)를 포함하는 딕셔너리를 생성하고 출력하는 프로그램을 작성해보자.  \n",
    "단, dictionary comprehension을 사용하기"
   ]
  },
  {
   "cell_type": "raw",
   "id": "7df1ea3d",
   "metadata": {},
   "source": [
    "{1:1, 2:4, 3:9, 4:16, 5:25, 6:36, 7:49, 8:64, 9:81, 10:100}"
   ]
  },
  {
   "cell_type": "code",
   "execution_count": 6,
   "id": "11238693",
   "metadata": {},
   "outputs": [
    {
     "data": {
      "text/plain": [
       "{1: 1, 2: 4, 3: 9, 4: 16, 5: 25, 6: 36, 7: 49, 8: 64, 9: 81, 10: 100}"
      ]
     },
     "execution_count": 6,
     "metadata": {},
     "output_type": "execute_result"
    }
   ],
   "source": [
    "a = {x:x*x for x in range(1,11)}\n",
    "a"
   ]
  },
  {
   "cell_type": "markdown",
   "id": "fde43361",
   "metadata": {},
   "source": [
    "### Exercise 3\n",
    "키/값 쌍인 3:30을 딕셔너리에 추가하는 프로그램을 작성해보자."
   ]
  },
  {
   "cell_type": "raw",
   "id": "9e56c9ce",
   "metadata": {},
   "source": [
    "원래 딕셔너리 : {1:10, 2:20}\n",
    "변경된 딕셔너리 : {1:10, 2:20, 3:30}"
   ]
  },
  {
   "cell_type": "code",
   "execution_count": 7,
   "id": "5e8521ed",
   "metadata": {},
   "outputs": [
    {
     "data": {
      "text/plain": [
       "{1: 10, 2: 20}"
      ]
     },
     "execution_count": 7,
     "metadata": {},
     "output_type": "execute_result"
    }
   ],
   "source": [
    "d = {1:10, 2:20}\n",
    "d"
   ]
  },
  {
   "cell_type": "code",
   "execution_count": 8,
   "id": "27292caa",
   "metadata": {},
   "outputs": [
    {
     "data": {
      "text/plain": [
       "{1: 10, 2: 20, 3: 30}"
      ]
     },
     "execution_count": 8,
     "metadata": {},
     "output_type": "execute_result"
    }
   ],
   "source": [
    "d[3] = 30\n",
    "d"
   ]
  },
  {
   "cell_type": "markdown",
   "id": "77e23567",
   "metadata": {},
   "source": [
    "### Exercise 4\n",
    "다음과 같은 딕셔너리에서 주어진 키가 딕셔너리에 있는지 확인하기 위한 프로그램을 작성해보자."
   ]
  },
  {
   "cell_type": "raw",
   "id": "72e62b2f",
   "metadata": {},
   "source": [
    "d = {1:10, 2:20, 3:30, 4:40, 5:50, 6:60}\n",
    "\n",
    "키를 입력하시오: 5\n",
    "키 5는 딕셔너리에 있습니다."
   ]
  },
  {
   "cell_type": "code",
   "execution_count": 9,
   "id": "1484b048",
   "metadata": {},
   "outputs": [
    {
     "data": {
      "text/plain": [
       "{1: 10, 2: 20, 3: 30, 4: 40, 5: 50, 6: 60}"
      ]
     },
     "execution_count": 9,
     "metadata": {},
     "output_type": "execute_result"
    }
   ],
   "source": [
    "d = {1:10, 2:20, 3:30, 4:40, 5:50, 6:60}\n",
    "d"
   ]
  },
  {
   "cell_type": "code",
   "execution_count": 20,
   "id": "3d9adade",
   "metadata": {},
   "outputs": [
    {
     "name": "stdout",
     "output_type": "stream",
     "text": [
      "키를 입력하시오 :5\n",
      "키 5는 딕셔너리에 있습니다.\n"
     ]
    }
   ],
   "source": [
    "key = int(input(\"키를 입력하시오 :\"))\n",
    "\n",
    "if key in d :\n",
    "    print(\"키 %d는 딕셔너리에 있습니다.\"%key)"
   ]
  },
  {
   "cell_type": "markdown",
   "id": "7ad788f3",
   "metadata": {},
   "source": [
    "### Exercise 5\n",
    "키와 값을 저장하고 있는 2개의 리스트를 합쳐서 하나의 딕셔너리로 만드는 프로그램을 작성해보자.  \n"
   ]
  },
  {
   "cell_type": "raw",
   "id": "4790b2a6",
   "metadata": {},
   "source": [
    "colors = [\"red\", \"green\", \"blue\"]\n",
    "values = [\"#FF0000\", \"#008000\", \"#0000FF\"]\n",
    "\n",
    "{\"red\":\"#FF0000\", \"green\":\"#008000\", \"blue\":\"#0000FF\"}"
   ]
  },
  {
   "cell_type": "code",
   "execution_count": 13,
   "id": "eb3bc664",
   "metadata": {},
   "outputs": [],
   "source": [
    "colors = [\"red\", \"green\", \"blue\"]\n",
    "values = [\"#FF0000\", \"#008000\", \"#0000FF\"]"
   ]
  },
  {
   "cell_type": "code",
   "execution_count": 22,
   "id": "2b046e94",
   "metadata": {},
   "outputs": [
    {
     "data": {
      "text/plain": [
       "{'red': '#FF0000', 'green': '#008000', 'blue': '#0000FF'}"
      ]
     },
     "execution_count": 22,
     "metadata": {},
     "output_type": "execute_result"
    }
   ],
   "source": [
    "a = {}\n",
    "\n",
    "for i in range(3) :\n",
    "    a[colors[i]] = values[i] \n",
    "a"
   ]
  },
  {
   "cell_type": "code",
   "execution_count": 91,
   "id": "ffbc567e",
   "metadata": {},
   "outputs": [
    {
     "name": "stdout",
     "output_type": "stream",
     "text": [
      "red #FF0000\n",
      "green #008000\n",
      "blue #0000FF\n"
     ]
    }
   ],
   "source": [
    "for k, v in zip(colors, values):\n",
    "    print(k, v)"
   ]
  },
  {
   "cell_type": "markdown",
   "id": "dbc9d29a",
   "metadata": {},
   "source": [
    "### Exercise 6\n",
    "set1, set2의 2개의 세트가 주어져 있다고 하자.    \n",
    "set1 또는 set2, 어느 한쪽에만 있는 요소들을 추출하는 프로그램을 작성하라."
   ]
  },
  {
   "cell_type": "raw",
   "id": "210fd500",
   "metadata": {},
   "source": [
    "첫 번째 세트 {10, 20, 30, 40, 50, 60}\n",
    "두 번째 세트 {30, 40, 50, 60, 70, 80}\n",
    "\n",
    "어느 한쪽에만 있는 요소들 {10, 20, 70, 80}  \n"
   ]
  },
  {
   "cell_type": "code",
   "execution_count": 24,
   "id": "3fe4f1b1",
   "metadata": {},
   "outputs": [],
   "source": [
    "a = {10, 20, 30, 40, 50, 60}\n",
    "b = {30, 40, 50, 60, 70, 80}"
   ]
  },
  {
   "cell_type": "code",
   "execution_count": 44,
   "id": "43503922",
   "metadata": {},
   "outputs": [
    {
     "data": {
      "text/plain": [
       "{10, 20, 70, 80}"
      ]
     },
     "execution_count": 44,
     "metadata": {},
     "output_type": "execute_result"
    }
   ],
   "source": [
    "c = a.union(b)\n",
    "d = a.intersection(b)\n",
    "e = c.difference(d)\n",
    "e"
   ]
  },
  {
   "cell_type": "markdown",
   "id": "1492b5e1",
   "metadata": {},
   "source": [
    "### Exercise 7\n",
    "\n",
    "주어진 문자열에서 글자의 등장횟수를 딕셔너리를 이용하여 카운팅 및 정렬한다."
   ]
  },
  {
   "cell_type": "raw",
   "id": "50ba2808",
   "metadata": {},
   "source": [
    "아래 주어진 string sequence는 사람의 유전자 일부분이다.  \n",
    "해당 시퀀스에서 각 base가 몇번씩 존재하는지 개수를 측정하시오.  \n",
    "단, 결과를 예시의 순서대로 출력해야 함  \n",
    "단, dictionary를 이용하여 직접 개수를 파악, count()와 같은 메소드 등을 이용하지 않는다\n",
    "\n",
    "cagctgaacaccctagtagtgctagccggcagcagtggctcctgagacctccacaccagagtcccgcacacattcaaggccaccacctccttcatgctcctctgtgatcacctctccaagtcccggtgtcaggagccttctctgtggccgccctggagagacttgagcctgggacgtgacgtgctgggctgtgaagctttctgagaagggaaacctgtggcctgacctgcctgaatgctgcacccaacctcatctcttcctgggaggcaggctctcttcgcttgtttttacaaatttgaaaccaacaactgtcagcattgacaccatcaggcctttctcttctaatttaaccttgcagccaaccacacggctatctgtgcgggatctctccccaagctcaaggacatgagatgcggatcaggcccaagaggctggatgccaaacctatcctctccatgtgaagcaccaacttgggggtgtcaactaaaaatatgagacccgtaaacttggaaaggaagactttatttcttgagaagggttgcaaactgcaggctgggaagtggcacctccagctgagaccacaaacagtggactttctcaaactggggtattgacctctgatgaaccgccatgcaaacccgtgcctttcaacataaaaagaagcccttcgaggtgctcaccttcaagcttgctagaggaggaggaagagcaggttgagtttgacataactagaatgggttgagcctttccagcagagtaaggttctttcatggtggacagtggccacccactgccatttctacaagaagattttgcttct\n",
    "\n",
    "(1-mer)\n",
    "a 203\n",
    "c 226\n",
    "g 198\n",
    "t 193\n",
    "\n",
    "(2-mer)\n",
    "aa 59\n",
    "ca 67\n",
    "ga 58\n",
    "ta 19\n",
    "ac 53\n",
    "cc 67\n",
    "gc 53\n",
    "tc 52\n",
    "ag 62\n",
    "cg 14\n",
    "gg 54\n",
    "tg 68\n",
    "at 29\n",
    "ct 78\n",
    "gt 33\n",
    "tt 53"
   ]
  },
  {
   "cell_type": "code",
   "execution_count": 57,
   "id": "4c958b85",
   "metadata": {},
   "outputs": [
    {
     "data": {
      "text/plain": [
       "'cagctgaacaccctagtagtgctagccggcagcagtggctcctgagacctccacaccagagtcccgcacacattcaaggccaccacctccttcatgctcctctgtgatcacctctccaagtcccggtgtcaggagccttctctgtggccgccctggagagacttgagcctgggacgtgacgtgctgggctgtgaagctttctgagaagggaaacctgtggcctgacctgcctgaatgctgcacccaacctcatctcttcctgggaggcaggctctcttcgcttgtttttacaaatttgaaaccaacaactgtcagcattgacaccatcaggcctttctcttctaatttaaccttgcagccaaccacacggctatctgtgcgggatctctccccaagctcaaggacatgagatgcggatcaggcccaagaggctggatgccaaacctatcctctccatgtgaagcaccaacttgggggtgtcaactaaaaatatgagacccgtaaacttggaaaggaagactttatttcttgagaagggttgcaaactgcaggctgggaagtggcacctccagctgagaccacaaacagtggactttctcaaactggggtattgacctctgatgaaccgccatgcaaacccgtgcctttcaacataaaaagaagcccttcgaggtgctcaccttcaagcttgctagaggaggaggaagagcaggttgagtttgacataactagaatgggttgagcctttccagcagagtaaggttctttcatggtggacagtggccacccactgccatttctacaagaagattttgcttct'"
      ]
     },
     "execution_count": 57,
     "metadata": {},
     "output_type": "execute_result"
    }
   ],
   "source": [
    "string = \"\"\"  1 cagctgaaca ccctagtagt gctagccggc agcagtggct cctgagacct ccacaccaga\n",
    "       61 gtcccgcaca cattcaaggc caccacctcc ttcatgctcc tctgtgatca cctctccaag\n",
    "      121 tcccggtgtc aggagccttc tctgtggccg ccctggagag acttgagcct gggacgtgac\n",
    "      181 gtgctgggct gtgaagcttt ctgagaaggg aaacctgtgg cctgacctgc ctgaatgctg\n",
    "      241 cacccaacct catctcttcc tgggaggcag gctctcttcg cttgttttta caaatttgaa\n",
    "      301 accaacaact gtcagcattg acaccatcag gcctttctct tctaatttaa ccttgcagcc\n",
    "      361 aaccacacgg ctatctgtgc gggatctctc cccaagctca aggacatgag atgcggatca\n",
    "      421 ggcccaagag gctggatgcc aaacctatcc tctccatgtg aagcaccaac ttgggggtgt\n",
    "      481 caactaaaaa tatgagaccc gtaaacttgg aaaggaagac tttatttctt gagaagggtt\n",
    "      541 gcaaactgca ggctgggaag tggcacctcc agctgagacc acaaacagtg gactttctca\n",
    "      601 aactggggta ttgacctctg atgaaccgcc atgcaaaccc gtgcctttca acataaaaag\n",
    "      661 aagcccttcg aggtgctcac cttcaagctt gctagaggag gaggaagagc aggttgagtt\n",
    "      721 tgacataact agaatgggtt gagcctttcc agcagagtaa ggttctttca tggtggacag\n",
    "      781 tggccaccca ctgccatttc tacaagaaga ttttgcttct \"\"\"\n",
    "\n",
    "string = ''.join([i for i in string if not i.isdigit()])\n",
    "string = string.replace('\\n','')\n",
    "string = string.replace(' ','')\n",
    "string"
   ]
  },
  {
   "cell_type": "code",
   "execution_count": 93,
   "id": "f2b120dd",
   "metadata": {},
   "outputs": [
    {
     "name": "stdout",
     "output_type": "stream",
     "text": [
      "{'a': 203, 'c': 226, 'g': 198, 't': 193}\n",
      "{'aa': 59, 'ca': 67, 'ga': 58, 'ta': 19, 'ac': 53, 'cc': 67, 'gc': 53, 'tc': 52, 'ag': 62, 'cg': 14, 'gg': 54, 'tg': 68, 'at': 29, 'ct': 78, 'gt': 33, 'tt': 53}\n"
     ]
    }
   ],
   "source": [
    "ch = {'a':0,'c':0,'g':0,'t':0}\n",
    "\n",
    "for i in string :\n",
    "    if i in ch :\n",
    "        ch[i] += 1\n",
    "print(ch)\n",
    "\n",
    "    \n",
    "kk = {'aa' :0, 'ca' :0, 'ga' :0, 'ta' :0, 'ac' :0, 'cc' :0, 'gc' :0, 'tc' :0, 'ag' :0, 'cg' : 0,\n",
    "       'gg' :0, 'tg' :0, 'at' :0, 'ct' :0, 'gt' :0, 'tt' : 0 }\n",
    "\n",
    "for i in range(len(string)-1) :\n",
    "    if string[i:i+2] in kk :\n",
    "        kk[string[i:i+2]] += 1\n",
    "\n",
    "print(kk)"
   ]
  },
  {
   "cell_type": "code",
   "execution_count": 90,
   "id": "531a5397",
   "metadata": {
    "scrolled": true
   },
   "outputs": [
    {
     "name": "stdout",
     "output_type": "stream",
     "text": [
      "(1-mer)\n",
      "a 203\n",
      "c 226\n",
      "g 198\n",
      "t 193\n",
      "\n",
      "(2-mer)\n",
      "aa 59\n",
      "ca 67\n",
      "ga 58\n",
      "ta 19\n",
      "ac 53\n",
      "cc 67\n",
      "gc 53\n",
      "tc 52\n",
      "ag 62\n",
      "cg 14\n",
      "gg 54\n",
      "tg 68\n",
      "at 29\n",
      "ct 78\n",
      "gt 33\n",
      "tt 53\n"
     ]
    }
   ],
   "source": [
    "print('(1-mer)')\n",
    "for i in ch :\n",
    "    print(i,ch[i])\n",
    "    \n",
    "print()\n",
    "print('(2-mer)')\n",
    "for i in kk :\n",
    "    print(i,kk[i])"
   ]
  },
  {
   "cell_type": "code",
   "execution_count": 99,
   "id": "3a4e84c4",
   "metadata": {},
   "outputs": [
    {
     "name": "stdout",
     "output_type": "stream",
     "text": [
      "{'c': 225, 'a': 202, 'g': 197, 't': 192}\n",
      "{'ca': 66, 'ag': 61, 'gc': 52, 'ct': 77, 'tg': 67, 'ga': 57, 'aa': 58, 'ac': 52, 'cc': 66, 'ta': 18, 'gt': 32, 'cg': 13, 'gg': 53, 'tc': 51, 'at': 28, 'tt': 52}\n"
     ]
    }
   ],
   "source": [
    "ch = {}\n",
    "\n",
    "for i in string :\n",
    "    if i in ch :\n",
    "        ch[i] += 1\n",
    "    else:\n",
    "        ch[i] = 0\n",
    "print(ch)\n",
    "\n",
    "kk = {}\n",
    "\n",
    "for i in range(len(string)-1) :\n",
    "    if string[i:i+2] in kk :\n",
    "        kk[string[i:i+2]] += 1\n",
    "    else:\n",
    "        kk[string[i:i+2]] = 0\n",
    "\n",
    "print(kk)"
   ]
  },
  {
   "cell_type": "code",
   "execution_count": 101,
   "id": "30160e5b",
   "metadata": {},
   "outputs": [
    {
     "name": "stdout",
     "output_type": "stream",
     "text": [
      "[('c', 225), ('a', 202), ('g', 197), ('t', 192)]\n",
      "[('a', 202), ('c', 225), ('g', 197), ('t', 192)]\n"
     ]
    }
   ],
   "source": [
    "lst = [(k, v) for k, v in ch.items()]\n",
    "print(lst)\n",
    "print(sorted(lst, key=lambda x:x[0]))"
   ]
  },
  {
   "cell_type": "code",
   "execution_count": null,
   "id": "c4fca0bb",
   "metadata": {},
   "outputs": [],
   "source": []
  }
 ],
 "metadata": {
  "kernelspec": {
   "display_name": "Python 3 (ipykernel)",
   "language": "python",
   "name": "python3"
  },
  "language_info": {
   "codemirror_mode": {
    "name": "ipython",
    "version": 3
   },
   "file_extension": ".py",
   "mimetype": "text/x-python",
   "name": "python",
   "nbconvert_exporter": "python",
   "pygments_lexer": "ipython3",
   "version": "3.11.4"
  }
 },
 "nbformat": 4,
 "nbformat_minor": 5
}
