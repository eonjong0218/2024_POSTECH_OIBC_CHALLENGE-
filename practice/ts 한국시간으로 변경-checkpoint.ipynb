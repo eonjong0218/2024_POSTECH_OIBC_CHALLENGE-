{
 "cells": [
  {
   "cell_type": "code",
   "execution_count": 26,
   "id": "9eff3efb-36d6-4b64-9426-af516cd7cf04",
   "metadata": {},
   "outputs": [
    {
     "name": "stdout",
     "output_type": "stream",
     "text": [
      "한국 시간: 2024-11-10 00:00:00\n"
     ]
    }
   ],
   "source": [
    "import pandas as pd\n",
    "import numpy as np\n",
    "from IPython.display import display\n",
    "from datetime import datetime\n",
    "\n",
    "def convert_ts_to_kst(ts):\n",
    "    # UNIX timestamp를 한국 시간으로 변환\n",
    "    kst_time = pd.to_datetime(ts, unit='s', utc=True).tz_convert('Asia/Seoul')\n",
    "    return kst_time.strftime('%Y-%m-%d %H:%M:%S')\n",
    "\n",
    "ts =   \t\t1731164400\n",
    "kst_time = convert_ts_to_kst(ts)\n",
    "print(f\"한국 시간: {kst_time}\")\n"
   ]
  },
  {
   "cell_type": "code",
   "execution_count": 24,
   "id": "5511d162-9c29-44e7-9134-3ae7f6f0cfc5",
   "metadata": {},
   "outputs": [
    {
     "name": "stdout",
     "output_type": "stream",
     "text": [
      "Ts : 1731081600\n"
     ]
    }
   ],
   "source": [
    "def date_to_ts(date_str):\n",
    "    # 한국 시간대를 고려하여 날짜를 UTC로 변환 후 타임스탬프로 변환\n",
    "    dt = pd.to_datetime(date_str, format='%Y-%m-%d %H:%M:%S')\n",
    "    dt_utc = dt.tz_localize('Asia/Seoul').tz_convert('UTC')\n",
    "    return int(dt_utc.timestamp())\n",
    "\n",
    "# 예시\n",
    "date_str = \"2024-11-09 01:00:00\"\n",
    "timestamp = date_to_ts(date_str)\n",
    "print(f\"Ts : {timestamp}\")"
   ]
  },
  {
   "cell_type": "code",
   "execution_count": null,
   "id": "88feecfd-d644-49d0-961e-20c719498d4d",
   "metadata": {},
   "outputs": [],
   "source": []
  }
 ],
 "metadata": {
  "kernelspec": {
   "display_name": "Python 3 (ipykernel)",
   "language": "python",
   "name": "python3"
  },
  "language_info": {
   "codemirror_mode": {
    "name": "ipython",
    "version": 3
   },
   "file_extension": ".py",
   "mimetype": "text/x-python",
   "name": "python",
   "nbconvert_exporter": "python",
   "pygments_lexer": "ipython3",
   "version": "3.12.4"
  }
 },
 "nbformat": 4,
 "nbformat_minor": 5
}
