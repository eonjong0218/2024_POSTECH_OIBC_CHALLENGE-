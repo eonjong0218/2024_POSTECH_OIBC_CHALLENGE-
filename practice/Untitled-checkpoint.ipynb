{
 "cells": [
  {
   "cell_type": "code",
   "execution_count": 64,
   "id": "1e487f6d-0732-42f2-bdea-ed35774d279a",
   "metadata": {},
   "outputs": [],
   "source": [
    "def solution(heights) :\n",
    "    if not heights :\n",
    "        return 0\n",
    "        \n",
    "    cnt = 0\n",
    "    \n",
    "    for i in range(1, len(heights)-1) :\n",
    "        \n",
    "        left = max(heights[:i])\n",
    "        right = max(height[i+1:])\n",
    "        \n",
    "        if left < right and left > heights[i] :\n",
    "            cnt += left - heights[i]\n",
    "        elif right < left and right > heights[i] :\n",
    "            cnt += right - heights[i]\n",
    "        elif right == left and right > heights[i] :\n",
    "            cnt += right - heights[i]\n",
    "\n",
    "    return cnt                "
   ]
  }
 ],
 "metadata": {
  "kernelspec": {
   "display_name": "Python 3 (ipykernel)",
   "language": "python",
   "name": "python3"
  },
  "language_info": {
   "codemirror_mode": {
    "name": "ipython",
    "version": 3
   },
   "file_extension": ".py",
   "mimetype": "text/x-python",
   "name": "python",
   "nbconvert_exporter": "python",
   "pygments_lexer": "ipython3",
   "version": "3.12.4"
  }
 },
 "nbformat": 4,
 "nbformat_minor": 5
}
