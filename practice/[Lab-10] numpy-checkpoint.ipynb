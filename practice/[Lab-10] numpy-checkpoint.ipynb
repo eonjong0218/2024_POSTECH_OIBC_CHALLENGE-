{
 "cells": [
  {
   "cell_type": "markdown",
   "id": "511c87c5",
   "metadata": {},
   "source": [
    "#### numpy를 import 하시오"
   ]
  },
  {
   "cell_type": "code",
   "execution_count": 1,
   "id": "cc6f2bbe",
   "metadata": {},
   "outputs": [],
   "source": [
    "import numpy as np"
   ]
  },
  {
   "cell_type": "markdown",
   "id": "743557f5",
   "metadata": {},
   "source": [
    "### Exercise 1"
   ]
  },
  {
   "cell_type": "markdown",
   "id": "ab997f65",
   "metadata": {},
   "source": [
    "10부터 19까지 범위를 가지는 numpy array생성하라.  \n",
    "(Hint) np.arange\n"
   ]
  },
  {
   "cell_type": "raw",
   "id": "c94ac22a",
   "metadata": {},
   "source": [
    "array([10, 11, 12, 13, 14, 15, 16, 17, 18, 19])"
   ]
  },
  {
   "cell_type": "code",
   "execution_count": 2,
   "id": "b5b0e07c",
   "metadata": {},
   "outputs": [
    {
     "data": {
      "text/plain": [
       "array([10, 11, 12, 13, 14, 15, 16, 17, 18, 19])"
      ]
     },
     "execution_count": 2,
     "metadata": {},
     "output_type": "execute_result"
    }
   ],
   "source": [
    "arr = np.arange(10,20)\n",
    "arr"
   ]
  },
  {
   "cell_type": "markdown",
   "id": "40c73e12",
   "metadata": {},
   "source": [
    "### Exercise 2\n",
    "- (2-1) 0부터 11까지의 (4,3) array를 arange와 reshape를 이용해서 만들고  \n",
    "- (2-2) 첫번째 열과 세번째 열의 값을 slicing을 통해서 가져오라.  "
   ]
  },
  {
   "cell_type": "raw",
   "id": "fd2d03bd",
   "metadata": {},
   "source": [
    "array([[ 0,  1,  2],\n",
    "       [ 3,  4,  5],\n",
    "       [ 6,  7,  8],\n",
    "       [ 9, 10, 11]])\n",
    "       \n",
    "array([[ 0,  2],\n",
    "       [ 3,  5],\n",
    "       [ 6,  8],\n",
    "       [ 9, 11]])"
   ]
  },
  {
   "cell_type": "code",
   "execution_count": 9,
   "id": "423118f0",
   "metadata": {},
   "outputs": [
    {
     "data": {
      "text/plain": [
       "array([[ 0,  1,  2],\n",
       "       [ 3,  4,  5],\n",
       "       [ 6,  7,  8],\n",
       "       [ 9, 10, 11]])"
      ]
     },
     "execution_count": 9,
     "metadata": {},
     "output_type": "execute_result"
    }
   ],
   "source": [
    "arr = np.arange(12).reshape((4,3))\n",
    "arr"
   ]
  },
  {
   "cell_type": "code",
   "execution_count": 11,
   "id": "238c7890",
   "metadata": {},
   "outputs": [
    {
     "data": {
      "text/plain": [
       "array([[ 0,  2],\n",
       "       [ 3,  5],\n",
       "       [ 6,  8],\n",
       "       [ 9, 11]])"
      ]
     },
     "execution_count": 11,
     "metadata": {},
     "output_type": "execute_result"
    }
   ],
   "source": [
    "arr[:,::2]"
   ]
  },
  {
   "cell_type": "markdown",
   "id": "281ede5c",
   "metadata": {},
   "source": [
    "### Exercise 3"
   ]
  },
  {
   "cell_type": "markdown",
   "id": "371c8e16",
   "metadata": {},
   "source": [
    "array([[1, 2],[3, 4]]) 2차원 배열을 생성하고  \n",
    "배열의 모든 원소에 대해서 주어진 함수  f(x)=x^2+x−6 을 적용해 보자."
   ]
  },
  {
   "cell_type": "raw",
   "id": "51f7d707",
   "metadata": {},
   "source": [
    "array([[1, 2],\n",
    "       [3, 4]])\n",
    "\n",
    "array([[-4,  0],\n",
    "       [ 6, 14]])"
   ]
  },
  {
   "cell_type": "code",
   "execution_count": 18,
   "id": "e1e4146a",
   "metadata": {},
   "outputs": [
    {
     "data": {
      "text/plain": [
       "array([[1, 2],\n",
       "       [3, 4]])"
      ]
     },
     "execution_count": 18,
     "metadata": {},
     "output_type": "execute_result"
    }
   ],
   "source": [
    "arr = np.arange(1,5).reshape(2,2)\n",
    "arr"
   ]
  },
  {
   "cell_type": "code",
   "execution_count": 20,
   "id": "e645cb2a",
   "metadata": {},
   "outputs": [
    {
     "data": {
      "text/plain": [
       "array([[-4,  0],\n",
       "       [ 6, 14]])"
      ]
     },
     "execution_count": 20,
     "metadata": {},
     "output_type": "execute_result"
    }
   ],
   "source": [
    "arr **2 + arr -6"
   ]
  },
  {
   "cell_type": "markdown",
   "id": "eb16fc82",
   "metadata": {},
   "source": [
    "### Exercise 4"
   ]
  },
  {
   "cell_type": "markdown",
   "id": "cb543f6d",
   "metadata": {},
   "source": [
    "- (3-1) 1부터 11까지 5행, 2열의 array를 만들어라  \n",
    "- (3-2) 만든 array에서 모든요소의합, 각 열의 합, 각 행의 합을 계산해보자\n",
    "(Hint) data.sum()"
   ]
  },
  {
   "cell_type": "raw",
   "id": "c71ea4ba",
   "metadata": {},
   "source": [
    "array([[ 1,  2],\n",
    "       [ 3,  4],\n",
    "       [ 5,  6],\n",
    "       [ 7,  8],\n",
    "       [ 9, 10]])\n",
    "       \n",
    "전체합: 55\n",
    "열의합: array([25, 30])\n",
    "행의합: array([ 3,  7, 11, 15, 19])"
   ]
  },
  {
   "cell_type": "code",
   "execution_count": 21,
   "id": "9e2b989b",
   "metadata": {},
   "outputs": [
    {
     "data": {
      "text/plain": [
       "array([[ 1,  2],\n",
       "       [ 3,  4],\n",
       "       [ 5,  6],\n",
       "       [ 7,  8],\n",
       "       [ 9, 10]])"
      ]
     },
     "execution_count": 21,
     "metadata": {},
     "output_type": "execute_result"
    }
   ],
   "source": [
    "arr = np.arange(1,11).reshape(5,2)\n",
    "arr"
   ]
  },
  {
   "cell_type": "code",
   "execution_count": 25,
   "id": "e1b051f2",
   "metadata": {},
   "outputs": [
    {
     "name": "stdout",
     "output_type": "stream",
     "text": [
      "전체합: 55\n",
      "열의합: [25 30]\n",
      "열의합: [ 3  7 11 15 19]\n"
     ]
    }
   ],
   "source": [
    "print(\"전체합:\", arr.sum())\n",
    "print(\"열의합:\", arr.sum(axis= 0))\n",
    "print(\"열의합:\", arr.sum(axis= 1))"
   ]
  },
  {
   "cell_type": "markdown",
   "id": "d5af16a7",
   "metadata": {},
   "source": [
    "### Exercise 5"
   ]
  },
  {
   "cell_type": "markdown",
   "id": "8148b9bc",
   "metadata": {},
   "source": [
    "- (4-1) array([[ 2,  4,  6],[ 8, 10, 12]]) 를 만든다.  \n",
    "- (4-2) 해당 array를 이용하여 전체 평균 및 표준 편차를 구하고, Z 정규화해보자   \n",
    "$$ Z =  \\frac{ X - \\mu}{ \\sigma} $$  \n",
    "(Hint) np.mean(), np.std()"
   ]
  },
  {
   "cell_type": "raw",
   "id": "69757c05",
   "metadata": {},
   "source": [
    "array([[ 2,  4,  6],\n",
    "       [ 8, 10, 12]])\n",
    "\n",
    "평균: 7.0\n",
    "표준편차: 3.415650255319866\n",
    "Z transform 결과\n",
    "array([[-1.46385011, -0.87831007, -0.29277002],\n",
    "       [ 0.29277002,  0.87831007,  1.46385011]])"
   ]
  },
  {
   "cell_type": "code",
   "execution_count": 41,
   "id": "464a3bff",
   "metadata": {},
   "outputs": [
    {
     "data": {
      "text/plain": [
       "array([[ 2,  4,  6],\n",
       "       [ 8, 10, 12]])"
      ]
     },
     "execution_count": 41,
     "metadata": {},
     "output_type": "execute_result"
    }
   ],
   "source": [
    "arr = np.arange(2,14,2).reshape(2,3)\n",
    "arr"
   ]
  },
  {
   "cell_type": "code",
   "execution_count": 43,
   "id": "2ec43daa",
   "metadata": {},
   "outputs": [
    {
     "name": "stdout",
     "output_type": "stream",
     "text": [
      "평균: 7.0\n",
      "표준편차: 3.415650255319866\n",
      "Z transform 결과\n"
     ]
    },
    {
     "data": {
      "text/plain": [
       "array([[-1.46385011, -0.87831007, -0.29277002],\n",
       "       [ 0.29277002,  0.87831007,  1.46385011]])"
      ]
     },
     "execution_count": 43,
     "metadata": {},
     "output_type": "execute_result"
    }
   ],
   "source": [
    "print(\"평균:\", arr.mean())\n",
    "print(\"표준편차:\", arr.std())\n",
    "print(\"Z transform 결과\")\n",
    "arr = (arr - arr.mean()) / arr.std()\n",
    "arr"
   ]
  },
  {
   "cell_type": "markdown",
   "id": "a6b30bf5",
   "metadata": {},
   "source": [
    "### Exercise 6"
   ]
  },
  {
   "cell_type": "markdown",
   "id": "bdaeb383",
   "metadata": {},
   "source": [
    "(5,5) 행렬을 만들어 체스 보드 패턴으로 채워보자"
   ]
  },
  {
   "cell_type": "markdown",
   "id": "7ceec5df",
   "metadata": {},
   "source": [
    "[0, 1, 0, 1, 0],  \n",
    "[1, 0, 1, 0, 1],  \n",
    "[0, 1, 0, 1, 0],  \n",
    "[1, 0, 1, 0, 1],  \n",
    "[0, 1, 0, 1, 0]]"
   ]
  },
  {
   "cell_type": "code",
   "execution_count": 67,
   "id": "5b9d82ea",
   "metadata": {},
   "outputs": [
    {
     "data": {
      "text/plain": [
       "array([[0., 0., 0., 0., 0.],\n",
       "       [0., 0., 0., 0., 0.],\n",
       "       [0., 0., 0., 0., 0.],\n",
       "       [0., 0., 0., 0., 0.],\n",
       "       [0., 0., 0., 0., 0.]])"
      ]
     },
     "execution_count": 67,
     "metadata": {},
     "output_type": "execute_result"
    }
   ],
   "source": [
    "arr = np.zeros((5,5))\n",
    "arr"
   ]
  },
  {
   "cell_type": "code",
   "execution_count": 68,
   "id": "120ea052",
   "metadata": {},
   "outputs": [],
   "source": [
    "for i in range(5) :\n",
    "    for j in range(5) :\n",
    "        if i % 2 == 0 and j % 2 != 0 :\n",
    "            arr[i][j] = 1\n",
    "        elif i % 2 != 0 and j % 2 == 0 :\n",
    "            arr[i][j] = 1"
   ]
  },
  {
   "cell_type": "code",
   "execution_count": 69,
   "id": "64488ead",
   "metadata": {},
   "outputs": [
    {
     "data": {
      "text/plain": [
       "array([[0., 1., 0., 1., 0.],\n",
       "       [1., 0., 1., 0., 1.],\n",
       "       [0., 1., 0., 1., 0.],\n",
       "       [1., 0., 1., 0., 1.],\n",
       "       [0., 1., 0., 1., 0.]])"
      ]
     },
     "execution_count": 69,
     "metadata": {},
     "output_type": "execute_result"
    }
   ],
   "source": [
    "arr"
   ]
  },
  {
   "cell_type": "code",
   "execution_count": 71,
   "id": "769b9eaf",
   "metadata": {},
   "outputs": [
    {
     "data": {
      "text/plain": [
       "array([[0, 1, 0, 1, 0],\n",
       "       [1, 0, 1, 0, 1],\n",
       "       [0, 1, 0, 1, 0],\n",
       "       [1, 0, 1, 0, 1],\n",
       "       [0, 1, 0, 1, 0]], dtype=int32)"
      ]
     },
     "execution_count": 71,
     "metadata": {},
     "output_type": "execute_result"
    }
   ],
   "source": [
    "np.arange(25).reshape(5,5)%2"
   ]
  },
  {
   "cell_type": "code",
   "execution_count": null,
   "id": "d4b1cc92",
   "metadata": {},
   "outputs": [],
   "source": []
  },
  {
   "cell_type": "code",
   "execution_count": null,
   "id": "3b573552",
   "metadata": {},
   "outputs": [],
   "source": []
  },
  {
   "cell_type": "markdown",
   "id": "08b226c6",
   "metadata": {},
   "source": [
    "### Exercise 7"
   ]
  },
  {
   "cell_type": "markdown",
   "id": "9afc787f",
   "metadata": {},
   "source": [
    "주어진 두 array의 내적을 numpy를 이용하여 작성하시오."
   ]
  },
  {
   "cell_type": "raw",
   "id": "58f883c1",
   "metadata": {},
   "source": [
    "array([4, 5])\n",
    "array([7, 10])\n",
    "벡터의 내적 : 78"
   ]
  },
  {
   "cell_type": "code",
   "execution_count": 73,
   "id": "b28c3238",
   "metadata": {},
   "outputs": [
    {
     "name": "stdout",
     "output_type": "stream",
     "text": [
      "벡터의 내적: 78\n"
     ]
    }
   ],
   "source": [
    "arr1 = np.arange(4,6)\n",
    "arr2 = np.arange(7,11,3)\n",
    "print(\"벡터의 내적:\",np.dot(arr1,arr2))"
   ]
  }
 ],
 "metadata": {
  "kernelspec": {
   "display_name": "Python 3 (ipykernel)",
   "language": "python",
   "name": "python3"
  },
  "language_info": {
   "codemirror_mode": {
    "name": "ipython",
    "version": 3
   },
   "file_extension": ".py",
   "mimetype": "text/x-python",
   "name": "python",
   "nbconvert_exporter": "python",
   "pygments_lexer": "ipython3",
   "version": "3.11.4"
  }
 },
 "nbformat": 4,
 "nbformat_minor": 5
}
